{
 "cells": [
  {
   "cell_type": "code",
   "execution_count": 2,
   "metadata": {},
   "outputs": [
    {
     "name": "stdout",
     "output_type": "stream",
     "text": [
      "Collecting tk\n",
      "  Downloading tk-0.1.0-py3-none-any.whl (3.9 kB)\n",
      "Installing collected packages: tk\n",
      "Successfully installed tk-0.1.0\n"
     ]
    },
    {
     "name": "stderr",
     "output_type": "stream",
     "text": [
      "WARNING: You are using pip version 20.0.2; however, version 21.1.3 is available.\n",
      "You should consider upgrading via the 'c:\\users\\kmn14\\appdata\\local\\continuum\\anaconda3\\python.exe -m pip install --upgrade pip' command.\n"
     ]
    }
   ],
   "source": [
    "!pip install tk"
   ]
  },
  {
   "cell_type": "code",
   "execution_count": 3,
   "metadata": {},
   "outputs": [],
   "source": [
    "import tkinter\n",
    "from tkinter import *\n",
    "from tkinter import BOTH, StringVar, END\n",
    "from PIL import ImageTk, Image"
   ]
  },
  {
   "cell_type": "code",
   "execution_count": 9,
   "metadata": {},
   "outputs": [],
   "source": [
    "root = tkinter.Tk()\n",
    "root.title(\"Simple Interest Calculator\")\n",
    "root.resizable(1,1) #Length, width(1 is allow to resize and 0 is not to resize)\n",
    "\n",
    "lb1 = Label(root,text= \"Enter the principle amount :\")\n",
    "lb1.grid(column=2,row=2)\n",
    "\n",
    "lb2 = Label(root,text= \"Enter the time period :\")\n",
    "lb2.grid(column=2,row=4)\n",
    "\n",
    "lb3 = Label(root,text= \"Enter the interest rate :\")\n",
    "lb3.grid(column=2,row=6)\n",
    "\n",
    "p=Entry(root)\n",
    "p.grid(column=4,row=2)\n",
    "t=Entry(root)\n",
    "t.grid(column=4,row=4)\n",
    "r=Entry(root)\n",
    "r.grid(column=4,row=6)\n",
    "\n",
    "def prn_screen():\n",
    "    print(\"P= \",p.get())\n",
    "    print(\"T= \",t.get())\n",
    "    print(\"R= \",r.get())\n",
    "    print(\"SI= \",(p*t*r)/100)\n",
    "\n",
    "def calc():\n",
    "    try:\n",
    "        res = float(p.get())*float(r.get())*float(t.get())/100\n",
    "    except:\n",
    "        print(\"handled an error\")\n",
    "        res=0\n",
    "    finally:\n",
    "        lb4.configure(text=\"The simple interest =\" +str(res))\n",
    "\n",
    "btn1=Button(root,text=\"Display on screen\",command=prn_screen, fg=\"blue\",bg=\"white\")\n",
    "btn1.grid(column=2,row=8)\n",
    "\n",
    "btn2=Button(root,text=\"Calculate\",command=calc, fg=\"blue\")\n",
    "btn2.grid(column=4,row=8)\n",
    "\n",
    "btn3=Button(root,text=\"Exit\",command=root.destroy, fg=\"red\")\n",
    "btn3.grid(column=3,row=9)\n",
    "\n",
    "lb4 = Label(root,text= \"The simple interest calculated = will be displayed here\", font=(\"verdana\",13,\"bold\"))\n",
    "lb4.grid(column=2,row=10)\n",
    "root.mainloop()"
   ]
  },
  {
   "cell_type": "code",
   "execution_count": null,
   "metadata": {},
   "outputs": [],
   "source": []
  }
 ],
 "metadata": {
  "kernelspec": {
   "display_name": "Python 3",
   "language": "python",
   "name": "python3"
  },
  "language_info": {
   "codemirror_mode": {
    "name": "ipython",
    "version": 3
   },
   "file_extension": ".py",
   "mimetype": "text/x-python",
   "name": "python",
   "nbconvert_exporter": "python",
   "pygments_lexer": "ipython3",
   "version": "3.7.4"
  }
 },
 "nbformat": 4,
 "nbformat_minor": 2
}
